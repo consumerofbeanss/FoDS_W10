{
  "nbformat": 4,
  "nbformat_minor": 0,
  "metadata": {
    "colab": {
      "provenance": []
    },
    "kernelspec": {
      "name": "python3",
      "display_name": "Python 3"
    },
    "language_info": {
      "name": "python"
    }
  },
  "cells": [
    {
      "cell_type": "code",
      "execution_count": 1,
      "metadata": {
        "id": "fvTU1SgjvkEz"
      },
      "outputs": [],
      "source": [
        "import pandas as pd\n",
        "from math import sqrt\n",
        "import numpy as np"
      ]
    },
    {
      "cell_type": "code",
      "source": [
        "url1 = 'https://raw.githubusercontent.com/consumerofbeanss/FoDS_W10/main/links.csv'\n",
        "url2 = 'https://raw.githubusercontent.com/consumerofbeanss/FoDS_W10/main/movies.csv'\n",
        "url3 = 'https://raw.githubusercontent.com/consumerofbeanss/FoDS_W10/main/ratings.csv'\n",
        "url4 = 'https://raw.githubusercontent.com/consumerofbeanss/FoDS_W10/main/tags.csv'\n",
        "\n",
        "links_df = pd.read_csv(url1)\n",
        "movies_df = pd.read_csv(url2)\n",
        "ratings_df = pd.read_csv(url3)\n",
        "tags_df = pd.read_csv(url4)\n",
        "\n",
        "movies_df"
      ],
      "metadata": {
        "colab": {
          "base_uri": "https://localhost:8080/",
          "height": 424
        },
        "id": "4luIhSe0vvvb",
        "outputId": "36df316f-fb11-467d-d56c-1cbf47ac8f75"
      },
      "execution_count": 23,
      "outputs": [
        {
          "output_type": "execute_result",
          "data": {
            "text/plain": [
              "      movieId                                      title  \\\n",
              "0           1                           Toy Story (1995)   \n",
              "1           2                             Jumanji (1995)   \n",
              "2           3                    Grumpier Old Men (1995)   \n",
              "3           4                   Waiting to Exhale (1995)   \n",
              "4           5         Father of the Bride Part II (1995)   \n",
              "...       ...                                        ...   \n",
              "9737   193581  Black Butler: Book of the Atlantic (2017)   \n",
              "9738   193583               No Game No Life: Zero (2017)   \n",
              "9739   193585                               Flint (2017)   \n",
              "9740   193587        Bungo Stray Dogs: Dead Apple (2018)   \n",
              "9741   193609        Andrew Dice Clay: Dice Rules (1991)   \n",
              "\n",
              "                                           genres  \n",
              "0     Adventure|Animation|Children|Comedy|Fantasy  \n",
              "1                      Adventure|Children|Fantasy  \n",
              "2                                  Comedy|Romance  \n",
              "3                            Comedy|Drama|Romance  \n",
              "4                                          Comedy  \n",
              "...                                           ...  \n",
              "9737              Action|Animation|Comedy|Fantasy  \n",
              "9738                     Animation|Comedy|Fantasy  \n",
              "9739                                        Drama  \n",
              "9740                             Action|Animation  \n",
              "9741                                       Comedy  \n",
              "\n",
              "[9742 rows x 3 columns]"
            ],
            "text/html": [
              "\n",
              "  <div id=\"df-d74bfb22-6c28-40eb-acec-0f737f3ac386\" class=\"colab-df-container\">\n",
              "    <div>\n",
              "<style scoped>\n",
              "    .dataframe tbody tr th:only-of-type {\n",
              "        vertical-align: middle;\n",
              "    }\n",
              "\n",
              "    .dataframe tbody tr th {\n",
              "        vertical-align: top;\n",
              "    }\n",
              "\n",
              "    .dataframe thead th {\n",
              "        text-align: right;\n",
              "    }\n",
              "</style>\n",
              "<table border=\"1\" class=\"dataframe\">\n",
              "  <thead>\n",
              "    <tr style=\"text-align: right;\">\n",
              "      <th></th>\n",
              "      <th>movieId</th>\n",
              "      <th>title</th>\n",
              "      <th>genres</th>\n",
              "    </tr>\n",
              "  </thead>\n",
              "  <tbody>\n",
              "    <tr>\n",
              "      <th>0</th>\n",
              "      <td>1</td>\n",
              "      <td>Toy Story (1995)</td>\n",
              "      <td>Adventure|Animation|Children|Comedy|Fantasy</td>\n",
              "    </tr>\n",
              "    <tr>\n",
              "      <th>1</th>\n",
              "      <td>2</td>\n",
              "      <td>Jumanji (1995)</td>\n",
              "      <td>Adventure|Children|Fantasy</td>\n",
              "    </tr>\n",
              "    <tr>\n",
              "      <th>2</th>\n",
              "      <td>3</td>\n",
              "      <td>Grumpier Old Men (1995)</td>\n",
              "      <td>Comedy|Romance</td>\n",
              "    </tr>\n",
              "    <tr>\n",
              "      <th>3</th>\n",
              "      <td>4</td>\n",
              "      <td>Waiting to Exhale (1995)</td>\n",
              "      <td>Comedy|Drama|Romance</td>\n",
              "    </tr>\n",
              "    <tr>\n",
              "      <th>4</th>\n",
              "      <td>5</td>\n",
              "      <td>Father of the Bride Part II (1995)</td>\n",
              "      <td>Comedy</td>\n",
              "    </tr>\n",
              "    <tr>\n",
              "      <th>...</th>\n",
              "      <td>...</td>\n",
              "      <td>...</td>\n",
              "      <td>...</td>\n",
              "    </tr>\n",
              "    <tr>\n",
              "      <th>9737</th>\n",
              "      <td>193581</td>\n",
              "      <td>Black Butler: Book of the Atlantic (2017)</td>\n",
              "      <td>Action|Animation|Comedy|Fantasy</td>\n",
              "    </tr>\n",
              "    <tr>\n",
              "      <th>9738</th>\n",
              "      <td>193583</td>\n",
              "      <td>No Game No Life: Zero (2017)</td>\n",
              "      <td>Animation|Comedy|Fantasy</td>\n",
              "    </tr>\n",
              "    <tr>\n",
              "      <th>9739</th>\n",
              "      <td>193585</td>\n",
              "      <td>Flint (2017)</td>\n",
              "      <td>Drama</td>\n",
              "    </tr>\n",
              "    <tr>\n",
              "      <th>9740</th>\n",
              "      <td>193587</td>\n",
              "      <td>Bungo Stray Dogs: Dead Apple (2018)</td>\n",
              "      <td>Action|Animation</td>\n",
              "    </tr>\n",
              "    <tr>\n",
              "      <th>9741</th>\n",
              "      <td>193609</td>\n",
              "      <td>Andrew Dice Clay: Dice Rules (1991)</td>\n",
              "      <td>Comedy</td>\n",
              "    </tr>\n",
              "  </tbody>\n",
              "</table>\n",
              "<p>9742 rows × 3 columns</p>\n",
              "</div>\n",
              "    <div class=\"colab-df-buttons\">\n",
              "\n",
              "  <div class=\"colab-df-container\">\n",
              "    <button class=\"colab-df-convert\" onclick=\"convertToInteractive('df-d74bfb22-6c28-40eb-acec-0f737f3ac386')\"\n",
              "            title=\"Convert this dataframe to an interactive table.\"\n",
              "            style=\"display:none;\">\n",
              "\n",
              "  <svg xmlns=\"http://www.w3.org/2000/svg\" height=\"24px\" viewBox=\"0 -960 960 960\">\n",
              "    <path d=\"M120-120v-720h720v720H120Zm60-500h600v-160H180v160Zm220 220h160v-160H400v160Zm0 220h160v-160H400v160ZM180-400h160v-160H180v160Zm440 0h160v-160H620v160ZM180-180h160v-160H180v160Zm440 0h160v-160H620v160Z\"/>\n",
              "  </svg>\n",
              "    </button>\n",
              "\n",
              "  <style>\n",
              "    .colab-df-container {\n",
              "      display:flex;\n",
              "      gap: 12px;\n",
              "    }\n",
              "\n",
              "    .colab-df-convert {\n",
              "      background-color: #E8F0FE;\n",
              "      border: none;\n",
              "      border-radius: 50%;\n",
              "      cursor: pointer;\n",
              "      display: none;\n",
              "      fill: #1967D2;\n",
              "      height: 32px;\n",
              "      padding: 0 0 0 0;\n",
              "      width: 32px;\n",
              "    }\n",
              "\n",
              "    .colab-df-convert:hover {\n",
              "      background-color: #E2EBFA;\n",
              "      box-shadow: 0px 1px 2px rgba(60, 64, 67, 0.3), 0px 1px 3px 1px rgba(60, 64, 67, 0.15);\n",
              "      fill: #174EA6;\n",
              "    }\n",
              "\n",
              "    .colab-df-buttons div {\n",
              "      margin-bottom: 4px;\n",
              "    }\n",
              "\n",
              "    [theme=dark] .colab-df-convert {\n",
              "      background-color: #3B4455;\n",
              "      fill: #D2E3FC;\n",
              "    }\n",
              "\n",
              "    [theme=dark] .colab-df-convert:hover {\n",
              "      background-color: #434B5C;\n",
              "      box-shadow: 0px 1px 3px 1px rgba(0, 0, 0, 0.15);\n",
              "      filter: drop-shadow(0px 1px 2px rgba(0, 0, 0, 0.3));\n",
              "      fill: #FFFFFF;\n",
              "    }\n",
              "  </style>\n",
              "\n",
              "    <script>\n",
              "      const buttonEl =\n",
              "        document.querySelector('#df-d74bfb22-6c28-40eb-acec-0f737f3ac386 button.colab-df-convert');\n",
              "      buttonEl.style.display =\n",
              "        google.colab.kernel.accessAllowed ? 'block' : 'none';\n",
              "\n",
              "      async function convertToInteractive(key) {\n",
              "        const element = document.querySelector('#df-d74bfb22-6c28-40eb-acec-0f737f3ac386');\n",
              "        const dataTable =\n",
              "          await google.colab.kernel.invokeFunction('convertToInteractive',\n",
              "                                                    [key], {});\n",
              "        if (!dataTable) return;\n",
              "\n",
              "        const docLinkHtml = 'Like what you see? Visit the ' +\n",
              "          '<a target=\"_blank\" href=https://colab.research.google.com/notebooks/data_table.ipynb>data table notebook</a>'\n",
              "          + ' to learn more about interactive tables.';\n",
              "        element.innerHTML = '';\n",
              "        dataTable['output_type'] = 'display_data';\n",
              "        await google.colab.output.renderOutput(dataTable, element);\n",
              "        const docLink = document.createElement('div');\n",
              "        docLink.innerHTML = docLinkHtml;\n",
              "        element.appendChild(docLink);\n",
              "      }\n",
              "    </script>\n",
              "  </div>\n",
              "\n",
              "\n",
              "<div id=\"df-1f8d3756-49d1-4cfe-837d-717bc74a3fbc\">\n",
              "  <button class=\"colab-df-quickchart\" onclick=\"quickchart('df-1f8d3756-49d1-4cfe-837d-717bc74a3fbc')\"\n",
              "            title=\"Suggest charts\"\n",
              "            style=\"display:none;\">\n",
              "\n",
              "<svg xmlns=\"http://www.w3.org/2000/svg\" height=\"24px\"viewBox=\"0 0 24 24\"\n",
              "     width=\"24px\">\n",
              "    <g>\n",
              "        <path d=\"M19 3H5c-1.1 0-2 .9-2 2v14c0 1.1.9 2 2 2h14c1.1 0 2-.9 2-2V5c0-1.1-.9-2-2-2zM9 17H7v-7h2v7zm4 0h-2V7h2v10zm4 0h-2v-4h2v4z\"/>\n",
              "    </g>\n",
              "</svg>\n",
              "  </button>\n",
              "\n",
              "<style>\n",
              "  .colab-df-quickchart {\n",
              "      --bg-color: #E8F0FE;\n",
              "      --fill-color: #1967D2;\n",
              "      --hover-bg-color: #E2EBFA;\n",
              "      --hover-fill-color: #174EA6;\n",
              "      --disabled-fill-color: #AAA;\n",
              "      --disabled-bg-color: #DDD;\n",
              "  }\n",
              "\n",
              "  [theme=dark] .colab-df-quickchart {\n",
              "      --bg-color: #3B4455;\n",
              "      --fill-color: #D2E3FC;\n",
              "      --hover-bg-color: #434B5C;\n",
              "      --hover-fill-color: #FFFFFF;\n",
              "      --disabled-bg-color: #3B4455;\n",
              "      --disabled-fill-color: #666;\n",
              "  }\n",
              "\n",
              "  .colab-df-quickchart {\n",
              "    background-color: var(--bg-color);\n",
              "    border: none;\n",
              "    border-radius: 50%;\n",
              "    cursor: pointer;\n",
              "    display: none;\n",
              "    fill: var(--fill-color);\n",
              "    height: 32px;\n",
              "    padding: 0;\n",
              "    width: 32px;\n",
              "  }\n",
              "\n",
              "  .colab-df-quickchart:hover {\n",
              "    background-color: var(--hover-bg-color);\n",
              "    box-shadow: 0 1px 2px rgba(60, 64, 67, 0.3), 0 1px 3px 1px rgba(60, 64, 67, 0.15);\n",
              "    fill: var(--button-hover-fill-color);\n",
              "  }\n",
              "\n",
              "  .colab-df-quickchart-complete:disabled,\n",
              "  .colab-df-quickchart-complete:disabled:hover {\n",
              "    background-color: var(--disabled-bg-color);\n",
              "    fill: var(--disabled-fill-color);\n",
              "    box-shadow: none;\n",
              "  }\n",
              "\n",
              "  .colab-df-spinner {\n",
              "    border: 2px solid var(--fill-color);\n",
              "    border-color: transparent;\n",
              "    border-bottom-color: var(--fill-color);\n",
              "    animation:\n",
              "      spin 1s steps(1) infinite;\n",
              "  }\n",
              "\n",
              "  @keyframes spin {\n",
              "    0% {\n",
              "      border-color: transparent;\n",
              "      border-bottom-color: var(--fill-color);\n",
              "      border-left-color: var(--fill-color);\n",
              "    }\n",
              "    20% {\n",
              "      border-color: transparent;\n",
              "      border-left-color: var(--fill-color);\n",
              "      border-top-color: var(--fill-color);\n",
              "    }\n",
              "    30% {\n",
              "      border-color: transparent;\n",
              "      border-left-color: var(--fill-color);\n",
              "      border-top-color: var(--fill-color);\n",
              "      border-right-color: var(--fill-color);\n",
              "    }\n",
              "    40% {\n",
              "      border-color: transparent;\n",
              "      border-right-color: var(--fill-color);\n",
              "      border-top-color: var(--fill-color);\n",
              "    }\n",
              "    60% {\n",
              "      border-color: transparent;\n",
              "      border-right-color: var(--fill-color);\n",
              "    }\n",
              "    80% {\n",
              "      border-color: transparent;\n",
              "      border-right-color: var(--fill-color);\n",
              "      border-bottom-color: var(--fill-color);\n",
              "    }\n",
              "    90% {\n",
              "      border-color: transparent;\n",
              "      border-bottom-color: var(--fill-color);\n",
              "    }\n",
              "  }\n",
              "</style>\n",
              "\n",
              "  <script>\n",
              "    async function quickchart(key) {\n",
              "      const quickchartButtonEl =\n",
              "        document.querySelector('#' + key + ' button');\n",
              "      quickchartButtonEl.disabled = true;  // To prevent multiple clicks.\n",
              "      quickchartButtonEl.classList.add('colab-df-spinner');\n",
              "      try {\n",
              "        const charts = await google.colab.kernel.invokeFunction(\n",
              "            'suggestCharts', [key], {});\n",
              "      } catch (error) {\n",
              "        console.error('Error during call to suggestCharts:', error);\n",
              "      }\n",
              "      quickchartButtonEl.classList.remove('colab-df-spinner');\n",
              "      quickchartButtonEl.classList.add('colab-df-quickchart-complete');\n",
              "    }\n",
              "    (() => {\n",
              "      let quickchartButtonEl =\n",
              "        document.querySelector('#df-1f8d3756-49d1-4cfe-837d-717bc74a3fbc button');\n",
              "      quickchartButtonEl.style.display =\n",
              "        google.colab.kernel.accessAllowed ? 'block' : 'none';\n",
              "    })();\n",
              "  </script>\n",
              "</div>\n",
              "    </div>\n",
              "  </div>\n"
            ]
          },
          "metadata": {},
          "execution_count": 23
        }
      ]
    },
    {
      "cell_type": "code",
      "source": [
        "userInput = [{'title':'Terminator, The (1984)', 'rating':4},\n",
        "             {'title':'The Lego Batman Movie (2017)', 'rating':5},\n",
        "             {'title':'Scott Pilgrim vs. the World (2010)', 'rating':4.5},\n",
        "             {'title':'Transformers: Age of Extinction (2014)', 'rating':2},\n",
        "             {'title':'Fifty Shades of Grey (2015)', 'rating':1.5}]\n",
        "inputMovies = pd.DataFrame(userInput)\n",
        "print(inputMovies)"
      ],
      "metadata": {
        "colab": {
          "base_uri": "https://localhost:8080/"
        },
        "id": "S0tPzl9w2rFw",
        "outputId": "540eabbc-9903-45e6-bcf4-2db3525491fc"
      },
      "execution_count": 24,
      "outputs": [
        {
          "output_type": "stream",
          "name": "stdout",
          "text": [
            "                                    title  rating\n",
            "0                  Terminator, The (1984)     4.0\n",
            "1            The Lego Batman Movie (2017)     5.0\n",
            "2      Scott Pilgrim vs. the World (2010)     4.5\n",
            "3  Transformers: Age of Extinction (2014)     2.0\n",
            "4             Fifty Shades of Grey (2015)     1.5\n"
          ]
        }
      ]
    },
    {
      "cell_type": "code",
      "source": [
        "inputId = movies_df[movies_df['title'].isin(inputMovies['title'].tolist())]\n",
        "inputMovies = pd.merge(inputId, inputMovies)\n",
        "inputMovies = inputMovies[['movieId','title','rating']]\n",
        "print(inputMovies)"
      ],
      "metadata": {
        "colab": {
          "base_uri": "https://localhost:8080/"
        },
        "id": "P2StxNCd0wEP",
        "outputId": "7fd599ec-e752-44ca-f0e2-f1af190be366"
      },
      "execution_count": 25,
      "outputs": [
        {
          "output_type": "stream",
          "name": "stdout",
          "text": [
            "   movieId                                   title  rating\n",
            "0     1240                  Terminator, The (1984)     4.0\n",
            "1    79702      Scott Pilgrim vs. the World (2010)     4.5\n",
            "2   112370  Transformers: Age of Extinction (2014)     2.0\n",
            "3   125916             Fifty Shades of Grey (2015)     1.5\n",
            "4   167746            The Lego Batman Movie (2017)     5.0\n"
          ]
        }
      ]
    },
    {
      "cell_type": "code",
      "source": [
        "userSubset = ratings_df[ratings_df['movieId'].isin(inputMovies['movieId'].tolist())]\n",
        "print(userSubset.groupby('movieId').count())"
      ],
      "metadata": {
        "colab": {
          "base_uri": "https://localhost:8080/"
        },
        "id": "Eq0n1JUZ3yAE",
        "outputId": "4108c670-2e81-456a-e0e3-f420363b38c2"
      },
      "execution_count": 26,
      "outputs": [
        {
          "output_type": "stream",
          "name": "stdout",
          "text": [
            "         userId  rating  timestamp\n",
            "movieId                           \n",
            "1240        131     131        131\n",
            "79702        44      44         44\n",
            "112370        4       4          4\n",
            "125916        3       3          3\n",
            "167746        7       7          7\n"
          ]
        }
      ]
    },
    {
      "cell_type": "code",
      "source": [
        "#Groupby creates several sub dataframes where they all have the same value in the column specified as the parameter\n",
        "userSubsetGroup = userSubset.groupby(['userId'])\n",
        "\n",
        "def take_5_elem(x):\n",
        "    # print (len(x[1]))\n",
        "    return len(x[1])\n",
        "\n",
        "\n",
        "#Sorting it so users with movie most in common with the input will have priority\n",
        "userSubsetGroup = sorted(userSubsetGroup, key=take_5_elem, reverse=True)\n",
        "\n",
        "userSubsetGroup = userSubsetGroup[0:100]\n",
        "print(userSubsetGroup[0:5])"
      ],
      "metadata": {
        "colab": {
          "base_uri": "https://localhost:8080/"
        },
        "id": "IhBMrLzv34-R",
        "outputId": "71dc962f-e18c-4981-db05-9f803a4d8bd6"
      },
      "execution_count": 27,
      "outputs": [
        {
          "output_type": "stream",
          "name": "stdout",
          "text": [
            "[(448,        userId  movieId  rating   timestamp\n",
            "68843     448     1240     3.0  1019124194\n",
            "69883     448    79702     3.0  1310228058\n",
            "70245     448   112370     1.5  1433790679\n",
            "70333     448   125916     0.5  1448552452), (125,        userId  movieId  rating   timestamp\n",
            "19254     125     1240     4.0  1474289509\n",
            "19415     125    79702     4.0  1474142151\n",
            "19579     125   167746     4.0  1513774320), (249,        userId  movieId  rating   timestamp\n",
            "36464     249     1240     4.0  1346757874\n",
            "37072     249    79702     4.5  1346847799\n",
            "37400     249   167746     4.0  1504979314), (298,        userId  movieId  rating   timestamp\n",
            "44612     298     1240     4.0  1447584728\n",
            "45260     298    79702     3.0  1447516910\n",
            "45414     298   112370     2.5  1453033058), (380,        userId  movieId  rating   timestamp\n",
            "57042     380     1240     5.0  1493473846\n",
            "57869     380    79702     4.0  1493420626\n",
            "58070     380   167746     5.0  1508436102)]\n"
          ]
        },
        {
          "output_type": "stream",
          "name": "stderr",
          "text": [
            "<ipython-input-27-af8a4a42e498>:10: FutureWarning: In a future version of pandas, a length 1 tuple will be returned when iterating over a groupby with a grouper equal to a list of length 1. Don't supply a list with a single grouper to avoid this warning.\n",
            "  userSubsetGroup = sorted(userSubsetGroup, key=take_5_elem, reverse=True)\n"
          ]
        }
      ]
    },
    {
      "cell_type": "code",
      "source": [
        "#Store the Pearson Correlation in a dictionary, where the key is the user Id and the value is the coefficient\n",
        "pearsonCorrelationDict = {}\n",
        "\n",
        "#For every user group in our subset\n",
        "for name, group in userSubsetGroup:\n",
        "\n",
        "    #Let's start by sorting the input and current user group so the values aren't mixed up later on\n",
        "    group = group.sort_values(by='movieId')\n",
        "    inputMovies = inputMovies.sort_values(by='movieId')\n",
        "\n",
        "    #Get the N for the formula\n",
        "    nRatings = len(group)\n",
        "\n",
        "    #Get the review scores for the movies that they both have in common\n",
        "    temp_df = inputMovies[inputMovies['movieId'].isin(group['movieId'].tolist())]\n",
        "\n",
        "    #And then store them in a temporary buffer variable in a list format to facilitate future calculations\n",
        "    tempRatingList = temp_df['rating'].tolist()\n",
        "\n",
        "    #Let's also put the current user group reviews in a list format\n",
        "    tempGroupList = group['rating'].tolist()\n",
        "\n",
        "\n",
        "    #Now let's calculate the pearson correlation between two users, so called, x and y manually (check the formula from week 7 slide)\n",
        "    Sxx = sum([i**2 for i in tempRatingList]) - pow(sum(tempRatingList),2)/float(nRatings)\n",
        "    Syy = sum([i**2 for i in tempGroupList]) - pow(sum(tempGroupList),2)/float(nRatings)\n",
        "    Sxy = sum( i*j for i, j in zip(tempRatingList, tempGroupList)) - sum(tempRatingList)*sum(tempGroupList)/float(nRatings)\n",
        "\n",
        "    #If the denominator is different than zero, then divide, else, 0 correlation.\n",
        "    if Sxx != 0 and Syy != 0:\n",
        "        pearsonCorrelationDict[name] = Sxy/sqrt(Sxx*Syy)\n",
        "    else:\n",
        "        pearsonCorrelationDict[name] = 0"
      ],
      "metadata": {
        "id": "ZTpnMUxA4L7j"
      },
      "execution_count": 28,
      "outputs": []
    },
    {
      "cell_type": "code",
      "source": [
        "pearsonDF = pd.DataFrame.from_dict(pearsonCorrelationDict, orient='index')\n",
        "pearsonDF.columns = ['similarityIndex']\n",
        "pearsonDF['userId'] = pearsonDF.index\n",
        "pearsonDF.index = range(len(pearsonDF))\n",
        "print(pearsonDF.head())"
      ],
      "metadata": {
        "colab": {
          "base_uri": "https://localhost:8080/"
        },
        "id": "Zwa0JkMw4aUI",
        "outputId": "ff0bb111-c3a9-450e-80a8-8dd86ee4f7d6"
      },
      "execution_count": 29,
      "outputs": [
        {
          "output_type": "stream",
          "name": "stdout",
          "text": [
            "   similarityIndex  userId\n",
            "0         0.970725     448\n",
            "1         0.000000     125\n",
            "2         0.000000     249\n",
            "3         0.618590     298\n",
            "4         0.000000     380\n"
          ]
        }
      ]
    },
    {
      "cell_type": "code",
      "source": [
        "topUsers=pearsonDF.sort_values(by='similarityIndex', ascending=False)[0:50]\n",
        "print(topUsers.head())"
      ],
      "metadata": {
        "colab": {
          "base_uri": "https://localhost:8080/"
        },
        "id": "dsbDccdk4dxQ",
        "outputId": "ec25898b-de77-4f75-c7d6-304b3e8529fe"
      },
      "execution_count": 30,
      "outputs": [
        {
          "output_type": "stream",
          "name": "stdout",
          "text": [
            "    similarityIndex  userId\n",
            "17              1.0     477\n",
            "8               1.0     212\n",
            "21              1.0     596\n",
            "20              1.0     567\n",
            "19              1.0     534\n"
          ]
        }
      ]
    },
    {
      "cell_type": "code",
      "source": [
        "topUsersRating=topUsers.merge(ratings_df, left_on='userId', right_on='userId', how='inner')\n",
        "print(topUsersRating.head(100))"
      ],
      "metadata": {
        "colab": {
          "base_uri": "https://localhost:8080/"
        },
        "id": "KXim3FgP4gcw",
        "outputId": "df69ad43-94ac-41d7-94b9-e2915e152432"
      },
      "execution_count": 31,
      "outputs": [
        {
          "output_type": "stream",
          "name": "stdout",
          "text": [
            "    similarityIndex  userId  movieId  rating   timestamp\n",
            "0               1.0     477        1     4.0  1200939636\n",
            "1               1.0     477        2     4.0  1200939962\n",
            "2               1.0     477        3     3.0  1200941177\n",
            "3               1.0     477       19     3.0  1200939977\n",
            "4               1.0     477       24     4.0  1201159341\n",
            "..              ...     ...      ...     ...         ...\n",
            "95              1.0     477      924     4.5  1200939944\n",
            "96              1.0     477      968     2.0  1200939188\n",
            "97              1.0     477     1005     2.5  1201195982\n",
            "98              1.0     477     1020     3.5  1200939255\n",
            "99              1.0     477     1033     3.5  1200947060\n",
            "\n",
            "[100 rows x 5 columns]\n"
          ]
        }
      ]
    },
    {
      "cell_type": "code",
      "source": [
        "#Multiplies the similarity by the user’s ratings\n",
        "topUsersRating['weightedRating'] = topUsersRating['similarityIndex']*topUsersRating['rating']\n",
        "print(topUsersRating.head())"
      ],
      "metadata": {
        "colab": {
          "base_uri": "https://localhost:8080/"
        },
        "id": "wyx8PWHE4nB3",
        "outputId": "25aee41f-7b6a-4e30-d932-9d30fa826aa7"
      },
      "execution_count": 32,
      "outputs": [
        {
          "output_type": "stream",
          "name": "stdout",
          "text": [
            "   similarityIndex  userId  movieId  rating   timestamp  weightedRating\n",
            "0              1.0     477        1     4.0  1200939636             4.0\n",
            "1              1.0     477        2     4.0  1200939962             4.0\n",
            "2              1.0     477        3     3.0  1200941177             3.0\n",
            "3              1.0     477       19     3.0  1200939977             3.0\n",
            "4              1.0     477       24     4.0  1201159341             4.0\n"
          ]
        }
      ]
    },
    {
      "cell_type": "code",
      "source": [
        "#Applies a sum to the topUsers after grouping it up by movieId\n",
        "tempTopUsersRating = topUsersRating.groupby('movieId').sum()[['similarityIndex','weightedRating']]\n",
        "tempTopUsersRating.columns = ['sum_similarityIndex','sum_weightedRating']\n",
        "print(tempTopUsersRating.head())"
      ],
      "metadata": {
        "colab": {
          "base_uri": "https://localhost:8080/"
        },
        "id": "F3cWNvW24q5S",
        "outputId": "4a8ba1b5-067c-4d6f-99e8-104b030882bf"
      },
      "execution_count": 33,
      "outputs": [
        {
          "output_type": "stream",
          "name": "stdout",
          "text": [
            "         sum_similarityIndex  sum_weightedRating\n",
            "movieId                                         \n",
            "1                   6.589315           25.590806\n",
            "2                   4.589315           13.221471\n",
            "3                   2.970725            8.912176\n",
            "5                   0.970725            2.912176\n",
            "6                   0.000000            0.000000\n"
          ]
        }
      ]
    },
    {
      "cell_type": "code",
      "source": [
        "#Creates an empty dataframe\n",
        "recommendation_df = pd.DataFrame()\n",
        "\n",
        "#Now we take the weighted average\n",
        "recommendation_df['weighted average recommendation score'] = tempTopUsersRating['sum_weightedRating']/tempTopUsersRating['sum_similarityIndex']\n",
        "recommendation_df['movieId'] = tempTopUsersRating.index\n",
        "print(recommendation_df.head(10))"
      ],
      "metadata": {
        "colab": {
          "base_uri": "https://localhost:8080/"
        },
        "id": "SvZQ_Lfx4uVt",
        "outputId": "e69caa31-762f-421c-bc75-525f295bcabf"
      },
      "execution_count": 34,
      "outputs": [
        {
          "output_type": "stream",
          "name": "stdout",
          "text": [
            "         weighted average recommendation score  movieId\n",
            "movieId                                                \n",
            "1                                     3.883682        1\n",
            "2                                     2.880925        2\n",
            "3                                     3.000000        3\n",
            "5                                     3.000000        5\n",
            "6                                          NaN        6\n",
            "7                                          NaN        7\n",
            "9                                          NaN        9\n",
            "10                                    4.000000       10\n",
            "11                                         NaN       11\n",
            "12                                    2.000000       12\n"
          ]
        }
      ]
    },
    {
      "cell_type": "code",
      "source": [
        "recommendation_df = recommendation_df.sort_values(by='weighted average recommendation score', ascending=False)\n",
        "\n",
        "recommendation_df_sorted = recommendation_df[recommendation_df['weighted average recommendation score'] > 4.9]\n",
        "print(recommendation_df_sorted)"
      ],
      "metadata": {
        "colab": {
          "base_uri": "https://localhost:8080/"
        },
        "id": "9lQa80qZ4x4X",
        "outputId": "6e0aa687-294a-4f00-d76d-bc8c79c7e91a"
      },
      "execution_count": 42,
      "outputs": [
        {
          "output_type": "stream",
          "name": "stdout",
          "text": [
            "         weighted average recommendation score  movieId\n",
            "movieId                                                \n",
            "2991                                       5.0     2991\n",
            "1147                                       5.0     1147\n",
            "47200                                      5.0    47200\n",
            "7247                                       5.0     7247\n",
            "1250                                       5.0     1250\n",
            "2394                                       5.0     2394\n",
            "2524                                       5.0     2524\n",
            "4396                                       5.0     4396\n",
            "4454                                       5.0     4454\n",
            "1078                                       5.0     1078\n",
            "4623                                       5.0     4623\n",
            "51709                                      5.0    51709\n",
            "148881                                     5.0   148881\n",
            "2013                                       5.0     2013\n",
            "1031                                       5.0     1031\n",
            "56782                                      5.0    56782\n",
            "5574                                       5.0     5574\n",
            "132333                                     5.0   132333\n",
            "115122                                     5.0   115122\n",
            "3266                                       5.0     3266\n",
            "40491                                      5.0    40491\n",
            "1262                                       5.0     1262\n",
            "33649                                      5.0    33649\n",
            "1227                                       5.0     1227\n",
            "3030                                       5.0     3030\n",
            "1209                                       5.0     1209\n",
            "1256                                       5.0     1256\n",
            "176371                                     5.0   176371\n",
            "4327                                       5.0     4327\n",
            "4941                                       5.0     4941\n",
            "99764                                      5.0    99764\n",
            "2366                                       5.0     2366\n",
            "1343                                       5.0     1343\n",
            "4799                                       5.0     4799\n",
            "25771                                      5.0    25771\n",
            "3494                                       5.0     3494\n",
            "3508                                       5.0     3508\n",
            "6818                                       5.0     6818\n",
            "599                                        5.0      599\n",
            "5915                                       5.0     5915\n",
            "2712                                       5.0     2712\n",
            "177593                                     5.0   177593\n",
            "3676                                       5.0     3676\n",
            "7132                                       5.0     7132\n",
            "2288                                       5.0     2288\n",
            "82242                                      5.0    82242\n",
            "3347                                       5.0     3347\n",
            "58                                         5.0       58\n",
            "2968                                       5.0     2968\n",
            "8542                                       5.0     8542\n",
            "5490                                       5.0     5490\n",
            "62336                                      5.0    62336\n",
            "8477                                       5.0     8477\n",
            "5522                                       5.0     5522\n",
            "3681                                       5.0     3681\n",
            "61240                                      5.0    61240\n",
            "164367                                     5.0   164367\n"
          ]
        }
      ]
    },
    {
      "cell_type": "code",
      "source": [
        "recommended_movie=movies_df.loc[movies_df['movieId'].isin(recommendation_df_sorted['movieId'])]\n",
        "\n",
        "#we don't want to recommend the same movie\n",
        "recommended_movie=recommended_movie.loc[~recommended_movie.movieId.isin(userSubset['movieId'])]\n",
        "\n",
        "print(recommended_movie)"
      ],
      "metadata": {
        "colab": {
          "base_uri": "https://localhost:8080/"
        },
        "id": "aNcRGCPU4z_q",
        "outputId": "4900c816-03f0-4856-f472-71809b34efa4"
      },
      "execution_count": 44,
      "outputs": [
        {
          "output_type": "stream",
          "name": "stdout",
          "text": [
            "      movieId                                              title  \\\n",
            "52         58                  Postman, The (Postino, Il) (1994)   \n",
            "515       599                             Wild Bunch, The (1969)   \n",
            "788      1031                    Bedknobs and Broomsticks (1971)   \n",
            "818      1078                                     Bananas (1971)   \n",
            "867      1147                          When We Were Kings (1996)   \n",
            "910      1209  Once Upon a Time in the West (C'era una volta ...   \n",
            "928      1227                 Once Upon a Time in America (1984)   \n",
            "949      1250               Bridge on the River Kwai, The (1957)   \n",
            "955      1256                                   Duck Soup (1933)   \n",
            "961      1262                           Great Escape, The (1963)   \n",
            "1031     1343                                   Cape Fear (1991)   \n",
            "1488     2013                     Poseidon Adventure, The (1972)   \n",
            "1701     2288                                  Thing, The (1982)   \n",
            "1768     2366                                   King Kong (1933)   \n",
            "1795     2394                        Prince of Egypt, The (1998)   \n",
            "1900     2524                       Towering Inferno, The (1974)   \n",
            "2036     2712                              Eyes Wide Shut (1999)   \n",
            "2233     2968                                Time Bandits (1981)   \n",
            "2254     2991                            Live and Let Die (1973)   \n",
            "2283     3030                                     Yojimbo (1961)   \n",
            "2453     3266  Man Bites Dog (C'est arrivé près de chez vous)...   \n",
            "2504     3347                              Never Cry Wolf (1983)   \n",
            "2610     3494                                   True Grit (1969)   \n",
            "2623     3508                     Outlaw Josey Wales, The (1976)   \n",
            "2738     3676                                  Eraserhead (1977)   \n",
            "2743     3681  For a Few Dollars More (Per qualche dollaro in...   \n",
            "3207     4327                      Magnificent Seven, The (1960)   \n",
            "3253     4396                         Cannonball Run, The (1981)   \n",
            "3294     4454                                        More (1998)   \n",
            "3398     4623                                Major League (1989)   \n",
            "3511     4799             It's a Mad, Mad, Mad, Mad World (1963)   \n",
            "3599     4941                                Flash Gordon (1980)   \n",
            "3908     5490                                 The Big Bus (1976)   \n",
            "3926     5522                                  Rollerball (1975)   \n",
            "3956     5574                            Transporter, The (2002)   \n",
            "4121     5915          Victory (a.k.a. Escape to Victory) (1981)   \n",
            "4590     6818                 Come and See (Idi i smotri) (1985)   \n",
            "4789     7132                       Night at the Opera, A (1935)   \n",
            "4848     7247                     Chitty Chitty Bang Bang (1968)   \n",
            "5202     8477                                   Jetée, La (1962)   \n",
            "5230     8542                         Day at the Races, A (1937)   \n",
            "5407    25771      Andalusian Dog, An (Chien andalou, Un) (1929)   \n",
            "5906    33649                                 Saving Face (2004)   \n",
            "6051    40491  Match Factory Girl, The (Tulitikkutehtaan tytt...   \n",
            "6261    47200                                       Crank (2006)   \n",
            "6438    51709                         Host, The (Gwoemul) (2006)   \n",
            "6648    56782                         There Will Be Blood (2007)   \n",
            "6827    61240  Let the Right One In (Låt den rätte komma in) ...   \n",
            "6859    62336                                        FLCL (2000)   \n",
            "7480    82242  Rare Exports: A Christmas Tale (Rare Exports) ...   \n",
            "8079    99764                   It's Such a Beautiful Day (2012)   \n",
            "8536   115122                   What We Do in the Shadows (2014)   \n",
            "8839   132333                                        Seve (2014)   \n",
            "9170   148881                           World of Tomorrow (2015)   \n",
            "9396   164367                 The Girl with All the Gifts (2016)   \n",
            "9604   176371                           Blade Runner 2049 (2017)   \n",
            "9618   177593   Three Billboards Outside Ebbing, Missouri (2017)   \n",
            "\n",
            "                                         genres  \n",
            "52                         Comedy|Drama|Romance  \n",
            "515                           Adventure|Western  \n",
            "788                  Adventure|Children|Musical  \n",
            "818                                  Comedy|War  \n",
            "867                                 Documentary  \n",
            "910                        Action|Drama|Western  \n",
            "928                                 Crime|Drama  \n",
            "949                         Adventure|Drama|War  \n",
            "955                          Comedy|Musical|War  \n",
            "961                  Action|Adventure|Drama|War  \n",
            "1031                                   Thriller  \n",
            "1488                     Action|Adventure|Drama  \n",
            "1701              Action|Horror|Sci-Fi|Thriller  \n",
            "1768            Action|Adventure|Fantasy|Horror  \n",
            "1795                          Animation|Musical  \n",
            "1900            Action|Adventure|Drama|Thriller  \n",
            "2036                     Drama|Mystery|Thriller  \n",
            "2233            Adventure|Comedy|Fantasy|Sci-Fi  \n",
            "2254                  Action|Adventure|Thriller  \n",
            "2283                           Action|Adventure  \n",
            "2453                Comedy|Crime|Drama|Thriller  \n",
            "2504                            Adventure|Drama  \n",
            "2610                    Adventure|Drama|Western  \n",
            "2623    Action|Adventure|Drama|Thriller|Western  \n",
            "2738                               Drama|Horror  \n",
            "2743              Action|Drama|Thriller|Western  \n",
            "3207                          Adventure|Western  \n",
            "3253                              Action|Comedy  \n",
            "3294                Animation|Drama|Sci-Fi|IMAX  \n",
            "3398                                     Comedy  \n",
            "3511              Action|Adventure|Comedy|Crime  \n",
            "3599                    Action|Adventure|Sci-Fi  \n",
            "3908                              Action|Comedy  \n",
            "3926                        Action|Drama|Sci-Fi  \n",
            "3956                               Action|Crime  \n",
            "4121                           Action|Drama|War  \n",
            "4590                                  Drama|War  \n",
            "4789                     Comedy|Musical|Romance  \n",
            "4848  Adventure|Children|Comedy|Fantasy|Musical  \n",
            "5202                             Romance|Sci-Fi  \n",
            "5230                             Comedy|Musical  \n",
            "5407                                    Fantasy  \n",
            "5906                       Comedy|Drama|Romance  \n",
            "6051                               Comedy|Drama  \n",
            "6261                            Action|Thriller  \n",
            "6438        Comedy|Drama|Horror|Sci-Fi|Thriller  \n",
            "6648                              Drama|Western  \n",
            "6827               Drama|Fantasy|Horror|Romance  \n",
            "6859            Animation|Comedy|Fantasy|Sci-Fi  \n",
            "7480                              Action|Comedy  \n",
            "8079      Animation|Comedy|Drama|Fantasy|Sci-Fi  \n",
            "8536                              Comedy|Horror  \n",
            "8839                          Documentary|Drama  \n",
            "9170                           Animation|Comedy  \n",
            "9396               Drama|Horror|Sci-Fi|Thriller  \n",
            "9604                                     Sci-Fi  \n",
            "9618                                Crime|Drama  \n"
          ]
        }
      ]
    }
  ]
}